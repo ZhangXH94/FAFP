{
 "cells": [
  {
   "cell_type": "code",
   "execution_count": 144,
   "metadata": {},
   "outputs": [
    {
     "name": "stderr",
     "output_type": "stream",
     "text": [
      "/usr/local/lib/python2.7/dist-packages/urllib3/util/ssl_.py:137: InsecurePlatformWarning: A true SSLContext object is not available. This prevents urllib3 from configuring SSL appropriately and may cause certain SSL connections to fail. You can upgrade to a newer version of Python to solve this. For more information, see https://urllib3.readthedocs.io/en/latest/advanced-usage.html#ssl-warnings\n",
      "  InsecurePlatformWarning\n"
     ]
    }
   ],
   "source": [
    "#Experiment4\n",
    "import datetime\n",
    "import pandas as pd \n",
    "import pandas_datareader.data as web\n",
    "import numpy as np\n",
    "import matplotlib.pyplot as plt\n",
    "import math\n",
    "\n",
    "#用在线的方式从QUANDL 获取数据\n",
    "symbol = 'AAPL.US'\n",
    "df = web.DataReader(symbol,'quandl','2018-02-02','2018-03-09')\n",
    "df.to_csv('./apple25.csv')\n",
    "\n",
    "fsplit = open('./apple25.csv','r')\n",
    "lines_label = fsplit.readlines()\n",
    "fsplit.close()\n",
    "close = list()\n",
    "#整理数据，得到收盘价\n",
    "for each in lines_label[1:]:\n",
    "    tokens = each.split(',')\n",
    "    close.append(tokens[4])\n",
    "closed = close[::-1]\n",
    "dateX = np.arange(1,len(closed)+1)\n",
    "X = np.array(closed,dtype='float32')"
   ]
  },
  {
   "cell_type": "code",
   "execution_count": 13,
   "metadata": {
    "collapsed": true
   },
   "outputs": [],
   "source": [
    "#计算常维D，长度维len(X)-2\n",
    "def calConsDem(X):\n",
    "    consdem = list()\n",
    "    for i in range(2,len(X)+1):\n",
    "        consdem.append(math.log(X[i-1]/X[i-2])/math.log(float(i-1)/float(i)))\n",
    "    return consdem\n",
    "#累加函数:用于累加和变换\n",
    "def cirSum(X):\n",
    "    result = list()\n",
    "    for i in range(0,len(X)):\n",
    "        result.append(sum(X[0:i+1]))\n",
    "    return result"
   ]
  },
  {
   "cell_type": "code",
   "execution_count": 145,
   "metadata": {
    "collapsed": true
   },
   "outputs": [],
   "source": [
    "#计算一阶，二阶，三阶累加和\n",
    "S1 = cirSum(X)\n",
    "S2 = cirSum(S1)\n",
    "S3 = cirSum(S2)\n",
    "S4 = cirSum(S3)"
   ]
  },
  {
   "cell_type": "code",
   "execution_count": 146,
   "metadata": {
    "collapsed": true
   },
   "outputs": [],
   "source": [
    "#计算各个累加和序列的分形维数D \n",
    "D0 = calConsDem(X)\n",
    "D1 = calConsDem(S1)\n",
    "D2 = calConsDem(S2)\n",
    "D3 = calConsDem(S3)"
   ]
  },
  {
   "cell_type": "code",
   "execution_count": 17,
   "metadata": {
    "collapsed": true
   },
   "outputs": [],
   "source": [
    "#根据上面算出的D 带入公式计算C\n",
    "def calConsC(X,D):\n",
    "    C = list()\n",
    "    for i in range(1,len(X)):\n",
    "        C.append(X[i]*math.pow(i,D[i-1]))\n",
    "    return C"
   ]
  },
  {
   "cell_type": "code",
   "execution_count": 97,
   "metadata": {},
   "outputs": [
    {
     "data": {
      "text/plain": [
       "[483.82000732421875,\n",
       " 296.2711242774035,\n",
       " 230.28987958019718,\n",
       " 195.2478022392082,\n",
       " 174.26780744793786,\n",
       " 159.93698805564875,\n",
       " 150.45905143962193,\n",
       " 143.9512695262964,\n",
       " 139.01793707504027,\n",
       " 135.15910775108262,\n",
       " 130.9914842889908,\n",
       " 127.11684087256427,\n",
       " 124.02899977355486,\n",
       " 121.1160060379993,\n",
       " 118.63276579549161,\n",
       " 116.28421679227985,\n",
       " 114.41429720954397,\n",
       " 112.3392785175764,\n",
       " 110.51184137343907,\n",
       " 108.7772566988067,\n",
       " 107.21253172196865,\n",
       " 105.6944022239697,\n",
       " 104.41700243445705,\n",
       " 103.10144489314682,\n",
       " 101.47751691110135,\n",
       " 99.94436104787685,\n",
       " 98.67354939111019,\n",
       " 98.03889829791895,\n",
       " 97.42073555251656,\n",
       " 96.8407193336519,\n",
       " 96.18049351374266,\n",
       " 95.65134344269637,\n",
       " 95.03495886501783,\n",
       " 93.81152948907787,\n",
       " 92.29534781815707,\n",
       " 90.68236503259847,\n",
       " 89.45590845107589,\n",
       " 88.2238516587491,\n",
       " 86.6827375116715,\n",
       " 85.13161314444268,\n",
       " 83.68483785159466,\n",
       " 82.28699121723405,\n",
       " 81.12837602086995,\n",
       " 80.13722282305746,\n",
       " 79.44900368674816,\n",
       " 78.99974114430017,\n",
       " 78.43381553786261,\n",
       " 77.98845560204212,\n",
       " 77.59374061846866,\n",
       " 77.00391300847465,\n",
       " 76.33523811411688,\n",
       " 75.72206651945703,\n",
       " 75.21941032989386,\n",
       " 74.8258940398595,\n",
       " 74.69901307666323,\n",
       " 74.43244793015953,\n",
       " 74.23877609835743,\n",
       " 74.13989060376038,\n",
       " 74.06118882262686,\n",
       " 74.02955487028696,\n",
       " 73.97722838593275,\n",
       " 73.93666687350874,\n",
       " 73.70995929241244,\n",
       " 73.55645960560774,\n",
       " 73.38351154214969,\n",
       " 73.22719022326999,\n",
       " 72.99280077623936,\n",
       " 72.63766414899922,\n",
       " 72.407313011225,\n",
       " 72.20369248149925,\n",
       " 71.98086187117609,\n",
       " 71.77400408218632,\n",
       " 71.80633172028806,\n",
       " 71.83902912078045,\n",
       " 71.8497117263152,\n",
       " 71.95404139749783,\n",
       " 71.9091838457907,\n",
       " 71.87115120745334,\n",
       " 71.80001811346234,\n",
       " 71.64275703448249,\n",
       " 71.52644010551367,\n",
       " 71.41963049498872,\n",
       " 71.32266817624233,\n",
       " 71.18866939285394,\n",
       " 70.98344321553937,\n",
       " 70.83027060053129,\n",
       " 70.56084785948428,\n",
       " 70.30013833909125,\n",
       " 70.08823445853865,\n",
       " 69.94983792269872,\n",
       " 69.81874011128448,\n",
       " 69.81167638739188,\n",
       " 69.93418830628055,\n",
       " 70.03845297209116,\n",
       " 70.28394204362944,\n",
       " 70.56262116271299,\n",
       " 70.81544531583828,\n",
       " 71.04771357060386,\n",
       " 71.56701522843252,\n",
       " 72.18626580106137,\n",
       " 72.56971076304613,\n",
       " 73.08036971972741,\n",
       " 73.74403087438802,\n",
       " 74.36494188828132,\n",
       " 74.70325093304149,\n",
       " 74.9681541145694,\n",
       " 75.10730124770019,\n",
       " 75.024894505256,\n",
       " 74.96824909042762,\n",
       " 74.93698932600292,\n",
       " 74.93760047795212,\n",
       " 74.88188309850739,\n",
       " 74.71916840156364,\n",
       " 74.43753036636812,\n",
       " 74.1886239379412,\n",
       " 73.9596985320186,\n",
       " 73.85178740809228,\n",
       " 73.70583644449496,\n",
       " 73.54465814260195,\n",
       " 73.39544824111316,\n",
       " 73.30921219967482,\n",
       " 73.16151883296673,\n",
       " 72.91669055902358,\n",
       " 72.62300980227917,\n",
       " 72.39895835330078,\n",
       " 72.23413249283522,\n",
       " 72.06908150125967,\n",
       " 71.93106934268081]"
      ]
     },
     "execution_count": 97,
     "metadata": {},
     "output_type": "execute_result"
    }
   ],
   "source": [
    "C2 = calConsC(S2,D2)\n",
    "C2"
   ]
  },
  {
   "cell_type": "markdown",
   "metadata": {},
   "source": [
    "S1"
   ]
  },
  {
   "cell_type": "code",
   "execution_count": 39,
   "metadata": {},
   "outputs": [
    {
     "data": {
      "image/png": "[encoded data removed]",
      "text/plain": [
       "<matplotlib.figure.Figure at 0x7f0113b3efd0>"
      ]
     },
     "metadata": {},
     "output_type": "display_data"
    }
   ],
   "source": [
    "#观察累加和序列的类指数性质\n",
    "time = range(1,21)\n",
    "plt.scatter(S4,time,marker='o')\n",
    "plt.plot(S4,time)\n",
    "plt.xlabel('fourth-order summed sums(USD)')\n",
    "plt.ylabel('n-th day')\n",
    "plt.show()"
   ]
  },
  {
   "cell_type": "code",
   "execution_count": 28,
   "metadata": {
    "collapsed": true
   },
   "outputs": [],
   "source": [
    "#预测函数\n",
    "def fR(R,D,C):\n",
    "    results  = list()\n",
    "    for i in R:\n",
    "        results.append(C/math.pow(i,D))\n",
    "    return results\n",
    "    "
   ]
  },
  {
   "cell_type": "code",
   "execution_count": 120,
   "metadata": {
    "collapsed": true
   },
   "outputs": [],
   "source": [
    "S2R = fR([127,128,129,130,131],D2[-2],C2[-2])"
   ]
  },
  {
   "cell_type": "code",
   "execution_count": 74,
   "metadata": {
    "collapsed": true
   },
   "outputs": [],
   "source": [
    "#累加和变换的逆变换\n",
    "def cirMinus(S2R,S1R):\n",
    "    temp = [0,0,0,0,0]\n",
    "    temp[4]=S2R[4]-S2R[3]\n",
    "    temp[3]=S2R[3]-S2R[2]\n",
    "    temp[2]=S2R[2]-S2R[1]\n",
    "    temp[1]=S2R[1]-S2R[0]\n",
    "    temp[0]=S2R[0]-S1R\n",
    "    return temp"
   ]
  },
  {
   "cell_type": "code",
   "execution_count": 125,
   "metadata": {
    "collapsed": true
   },
   "outputs": [],
   "source": [
    "S1R = cirMinus(S2R,S2[126])"
   ]
  },
  {
   "cell_type": "code",
   "execution_count": 126,
   "metadata": {
    "collapsed": true
   },
   "outputs": [],
   "source": [
    "XR = cirMinus(S1R,S1[126])"
   ]
  },
  {
   "cell_type": "code",
   "execution_count": 86,
   "metadata": {},
   "outputs": [
    {
     "name": "stderr",
     "output_type": "stream",
     "text": [
      "/usr/local/lib/python2.7/dist-packages/urllib3/util/ssl_.py:137: InsecurePlatformWarning: A true SSLContext object is not available. This prevents urllib3 from configuring SSL appropriately and may cause certain SSL connections to fail. You can upgrade to a newer version of Python to solve this. For more information, see https://urllib3.readthedocs.io/en/latest/advanced-usage.html#ssl-warnings\n",
      "  InsecurePlatformWarning\n"
     ]
    }
   ],
   "source": [
    "symbol = 'AAPL.US'\n",
    "df = web.DataReader(symbol,'quandl','2018-03-08','2018-03-15')"
   ]
  },
  {
   "cell_type": "code",
   "execution_count": 87,
   "metadata": {},
   "outputs": [
    {
     "data": {
      "text/html": [
       "<div>\n",
       "<style>\n",
       "    .dataframe thead tr:only-child th {\n",
       "        text-align: right;\n",
       "    }\n",
       "\n",
       "    .dataframe thead th {\n",
       "        text-align: left;\n",
       "    }\n",
       "\n",
       "    .dataframe tbody tr th {\n",
       "        vertical-align: top;\n",
       "    }\n",
       "</style>\n",
       "<table border=\"1\" class=\"dataframe\">\n",
       "  <thead>\n",
       "    <tr style=\"text-align: right;\">\n",
       "      <th></th>\n",
       "      <th>Open</th>\n",
       "      <th>High</th>\n",
       "      <th>Low</th>\n",
       "      <th>Close</th>\n",
       "      <th>Volume</th>\n",
       "      <th>ExDividend</th>\n",
       "      <th>SplitRatio</th>\n",
       "      <th>AdjOpen</th>\n",
       "      <th>AdjHigh</th>\n",
       "      <th>AdjLow</th>\n",
       "      <th>AdjClose</th>\n",
       "      <th>AdjVolume</th>\n",
       "    </tr>\n",
       "    <tr>\n",
       "      <th>Date</th>\n",
       "      <th></th>\n",
       "      <th></th>\n",
       "      <th></th>\n",
       "      <th></th>\n",
       "      <th></th>\n",
       "      <th></th>\n",
       "      <th></th>\n",
       "      <th></th>\n",
       "      <th></th>\n",
       "      <th></th>\n",
       "      <th></th>\n",
       "      <th></th>\n",
       "    </tr>\n",
       "  </thead>\n",
       "  <tbody>\n",
       "    <tr>\n",
       "      <th>2018-03-15</th>\n",
       "      <td>178.50</td>\n",
       "      <td>180.24</td>\n",
       "      <td>178.0701</td>\n",
       "      <td>178.65</td>\n",
       "      <td>22584565.0</td>\n",
       "      <td>0.0</td>\n",
       "      <td>1.0</td>\n",
       "      <td>178.50</td>\n",
       "      <td>180.24</td>\n",
       "      <td>178.0701</td>\n",
       "      <td>178.65</td>\n",
       "      <td>22584565.0</td>\n",
       "    </tr>\n",
       "    <tr>\n",
       "      <th>2018-03-14</th>\n",
       "      <td>180.32</td>\n",
       "      <td>180.52</td>\n",
       "      <td>177.8100</td>\n",
       "      <td>178.44</td>\n",
       "      <td>29075469.0</td>\n",
       "      <td>0.0</td>\n",
       "      <td>1.0</td>\n",
       "      <td>180.32</td>\n",
       "      <td>180.52</td>\n",
       "      <td>177.8100</td>\n",
       "      <td>178.44</td>\n",
       "      <td>29075469.0</td>\n",
       "    </tr>\n",
       "    <tr>\n",
       "      <th>2018-03-13</th>\n",
       "      <td>182.59</td>\n",
       "      <td>183.50</td>\n",
       "      <td>179.2400</td>\n",
       "      <td>179.97</td>\n",
       "      <td>31168404.0</td>\n",
       "      <td>0.0</td>\n",
       "      <td>1.0</td>\n",
       "      <td>182.59</td>\n",
       "      <td>183.50</td>\n",
       "      <td>179.2400</td>\n",
       "      <td>179.97</td>\n",
       "      <td>31168404.0</td>\n",
       "    </tr>\n",
       "    <tr>\n",
       "      <th>2018-03-12</th>\n",
       "      <td>180.29</td>\n",
       "      <td>182.39</td>\n",
       "      <td>180.2100</td>\n",
       "      <td>181.72</td>\n",
       "      <td>32055405.0</td>\n",
       "      <td>0.0</td>\n",
       "      <td>1.0</td>\n",
       "      <td>180.29</td>\n",
       "      <td>182.39</td>\n",
       "      <td>180.2100</td>\n",
       "      <td>181.72</td>\n",
       "      <td>32055405.0</td>\n",
       "    </tr>\n",
       "    <tr>\n",
       "      <th>2018-03-09</th>\n",
       "      <td>177.96</td>\n",
       "      <td>180.00</td>\n",
       "      <td>177.3900</td>\n",
       "      <td>179.98</td>\n",
       "      <td>31385134.0</td>\n",
       "      <td>0.0</td>\n",
       "      <td>1.0</td>\n",
       "      <td>177.96</td>\n",
       "      <td>180.00</td>\n",
       "      <td>177.3900</td>\n",
       "      <td>179.98</td>\n",
       "      <td>31385134.0</td>\n",
       "    </tr>\n",
       "  </tbody>\n",
       "</table>\n",
       "</div>"
      ],
      "text/plain": [
       "              Open    High       Low   Close      Volume  ExDividend  \\\n",
       "Date                                                                   \n",
       "2018-03-15  178.50  180.24  178.0701  178.65  22584565.0         0.0   \n",
       "2018-03-14  180.32  180.52  177.8100  178.44  29075469.0         0.0   \n",
       "2018-03-13  182.59  183.50  179.2400  179.97  31168404.0         0.0   \n",
       "2018-03-12  180.29  182.39  180.2100  181.72  32055405.0         0.0   \n",
       "2018-03-09  177.96  180.00  177.3900  179.98  31385134.0         0.0   \n",
       "\n",
       "            SplitRatio  AdjOpen  AdjHigh    AdjLow  AdjClose   AdjVolume  \n",
       "Date                                                                      \n",
       "2018-03-15         1.0   178.50   180.24  178.0701    178.65  22584565.0  \n",
       "2018-03-14         1.0   180.32   180.52  177.8100    178.44  29075469.0  \n",
       "2018-03-13         1.0   182.59   183.50  179.2400    179.97  31168404.0  \n",
       "2018-03-12         1.0   180.29   182.39  180.2100    181.72  32055405.0  \n",
       "2018-03-09         1.0   177.96   180.00  177.3900    179.98  31385134.0  "
      ]
     },
     "execution_count": 87,
     "metadata": {},
     "output_type": "execute_result"
    }
   ],
   "source": [
    "df.head()"
   ]
  },
  {
   "cell_type": "code",
   "execution_count": 130,
   "metadata": {},
   "outputs": [
    {
     "data": {
      "image/png": "[encoded data removed]",
      "text/plain": [
       "<matplotlib.figure.Figure at 0x7f01139d6ed0>"
      ]
     },
     "metadata": {},
     "output_type": "display_data"
    }
   ],
   "source": [
    "X_pred=[176.94,177.56,179.52,178.27,176.60,176.59]\n",
    "plt.scatter(range(0,25),X,marker='o',color='b',label='truth')\n",
    "plt.scatter(range(19,25),X_pred,marker='X',color='r',label='prediction')\n",
    "plt.plot(range(0,25),X,color='b')\n",
    "plt.plot(range(19,25),X_pred,color='r')\n",
    "plt.legend(loc='lower right')\n",
    "plt.xlabel('time(day)')\n",
    "plt.ylabel('Stock price(USD)')\n",
    "plt.show()"
   ]
  },
  {
   "cell_type": "code",
   "execution_count": 151,
   "metadata": {},
   "outputs": [
    {
     "data": {
      "text/plain": [
       "24"
      ]
     },
     "execution_count": 151,
     "metadata": {},
     "output_type": "execute_result"
    }
   ],
   "source": [
    "len(D2)"
   ]
  }
 ],
 "metadata": {
  "kernelspec": {
   "display_name": "Python 2",
   "language": "python",
   "name": "python2"
  },
  "language_info": {
   "codemirror_mode": {
    "name": "ipython",
    "version": 2
   },
   "file_extension": ".py",
   "mimetype": "text/x-python",
   "name": "python",
   "nbconvert_exporter": "python",
   "pygments_lexer": "ipython2",
   "version": "2.7.6"
  }
 },
 "nbformat": 4,
 "nbformat_minor": 2
}
